{
  "cells": [
    {
      "cell_type": "markdown",
      "metadata": {},
      "source": [
        "# Authorship Identification for Comparing Your Posts vs Infamous CEOs'\n",
        "\n",
        "![Image: image from https://trekkingwithdennis.com/tag/star-trek-voyager/](banner.png \"image from trekkingwithdennis.com\")\n",
        "\n",
        "In this article, we will entertian ourselves by comparing our, and, our galatic industry leaders' posts on the professional network BeamedIn, againts those of past earthling CEOs who were either frauds or unnanimously declared as unpleasant people. \n",
        "\n",
        "We will do this with a technique called **Authorship Identification** in NLP. This enables us to identify the most likely author of articles, news or messages. \n",
        "\n",
        "# Building The Author Learning Pipeline\n",
        "\n",
        "Here are the steps we will undertake:\n",
        "1. Clean the dataset of CEO messages.\n",
        "2. Vectorize words\n",
        "3. Extract features through bag of word (BoW) or Latent Semantic Analysis (LSA).\n",
        "4. Train classifier - for this we will find the best from a group of classifiers.\n",
        "\n",
        "Let's prepare our notebook before this work"
      ]
    },
    {
      "cell_type": "code",
      "execution_count": 1,
      "metadata": {
        "execution": {
          "iopub.execute_input": "2022-05-05T16:15:49.720095Z",
          "iopub.status.busy": "2022-05-05T16:15:49.719366Z",
          "iopub.status.idle": "2022-05-05T16:16:27.390641Z",
          "shell.execute_reply": "2022-05-05T16:16:27.389477Z",
          "shell.execute_reply.started": "2022-05-05T16:15:49.720042Z"
        },
        "trusted": true
      },
      "outputs": [
        {
          "data": {
            "text/html": [
              "<div>\n",
              "<style scoped>\n",
              "    .dataframe tbody tr th:only-of-type {\n",
              "        vertical-align: middle;\n",
              "    }\n",
              "\n",
              "    .dataframe tbody tr th {\n",
              "        vertical-align: top;\n",
              "    }\n",
              "\n",
              "    .dataframe thead th {\n",
              "        text-align: right;\n",
              "    }\n",
              "</style>\n",
              "<table border=\"1\" class=\"dataframe\">\n",
              "  <thead>\n",
              "    <tr style=\"text-align: right;\">\n",
              "      <th></th>\n",
              "      <th>publication</th>\n",
              "      <th>author</th>\n",
              "      <th>content</th>\n",
              "    </tr>\n",
              "  </thead>\n",
              "  <tbody>\n",
              "    <tr>\n",
              "      <th>31675</th>\n",
              "      <td>tweets</td>\n",
              "      <td>Donald Trump</td>\n",
              "      <td>Just learned that Jon @ Ossoff, who is running...</td>\n",
              "    </tr>\n",
              "    <tr>\n",
              "      <th>41303</th>\n",
              "      <td>tweets</td>\n",
              "      <td>Donald Trump</td>\n",
              "      <td>With Votes in the House tomorrow, Democrats wa...</td>\n",
              "    </tr>\n",
              "    <tr>\n",
              "      <th>13150</th>\n",
              "      <td>tweets</td>\n",
              "      <td>Donald Trump</td>\n",
              "      <td>\"To become a champion, fight one more round.\" ...</td>\n",
              "    </tr>\n",
              "    <tr>\n",
              "      <th>29651</th>\n",
              "      <td>tweets</td>\n",
              "      <td>Donald Trump</td>\n",
              "      <td>Another attack, this time in Germany. Many kil...</td>\n",
              "    </tr>\n",
              "    <tr>\n",
              "      <th>6425</th>\n",
              "      <td>tweets</td>\n",
              "      <td>Donald Trump</td>\n",
              "      <td>@ rubletz True--isn't it sad!</td>\n",
              "    </tr>\n",
              "  </tbody>\n",
              "</table>\n",
              "</div>"
            ],
            "text/plain": [
              "      publication        author  \\\n",
              "31675      tweets  Donald Trump   \n",
              "41303      tweets  Donald Trump   \n",
              "13150      tweets  Donald Trump   \n",
              "29651      tweets  Donald Trump   \n",
              "6425       tweets  Donald Trump   \n",
              "\n",
              "                                                 content  \n",
              "31675  Just learned that Jon @ Ossoff, who is running...  \n",
              "41303  With Votes in the House tomorrow, Democrats wa...  \n",
              "13150  \"To become a champion, fight one more round.\" ...  \n",
              "29651  Another attack, this time in Germany. Many kil...  \n",
              "6425                       @ rubletz True--isn't it sad!  "
            ]
          },
          "execution_count": 1,
          "metadata": {},
          "output_type": "execute_result"
        }
      ],
      "source": [
        "# Pip below for Kaggle and online notebooks.\n",
        "# !pip install ipywidgets\n",
        "# !pip install sklearn\n",
        "# !pip install spacy\n",
        "\n",
        "# General-purpose Libraries\n",
        "import os\n",
        "import numpy as np\n",
        "import pandas as pd\n",
        "import sklearn\n",
        "import re\n",
        "from collections import Counter\n",
        "%matplotlib inline\n",
        "\n",
        "# Remove anywarning texts from notebooks.\n",
        "import warnings\n",
        "warnings.filterwarnings(\"ignore\")\n",
        "\n",
        "RANDOM_STATE = 42\n",
        "\n",
        "# Discover files in kaggle if any.\n",
        "for dirname, _, filenames in os.walk('/kaggle/input'):\n",
        "    for filename in filenames:\n",
        "        print(os.path.join(dirname, filename))\n",
        "\n",
        "data = pd.read_csv('./communications.csv')\n",
        "data = data.dropna()\n",
        "data.sample(5, random_state=RANDOM_STATE)"
      ]
    },
    {
      "cell_type": "markdown",
      "metadata": {},
      "source": [
        "We will be using `scikit-learn` to create text processing pipelines. A Pipeline will create a compound classifier through these steps:\n",
        "1. vectorizer\n",
        "2. transformer\n",
        "3. classifier\n",
        "\n",
        "But first, we need to explore our data. We can look at the communication peices sizes, frequency of words or general sentiment:"
      ]
    },
    {
      "cell_type": "code",
      "execution_count": 2,
      "metadata": {},
      "outputs": [
        {
          "data": {
            "image/png": "[encoded data removed]",
            "text/plain": [
              "<Figure size 432x288 with 1 Axes>"
            ]
          },
          "metadata": {
            "needs_background": "light"
          },
          "output_type": "display_data"
        }
      ],
      "source": [
        "## for plotting\n",
        "import matplotlib.pyplot as plt\n",
        "import seaborn as sns\n",
        "import wordcloud\n",
        "\n",
        "fig, ax = plt.subplots()\n",
        "fig.suptitle(\"author\", fontsize=12)\n",
        "data[\"author\"].reset_index().groupby(\"author\").count().sort_values(by=\"index\").plot(\n",
        "  kind=\"barh\", \n",
        "  legend=False,\n",
        "  ax=ax).grid(axis='x')\n",
        "plt.show()"
      ]
    },
    {
      "cell_type": "markdown",
      "metadata": {},
      "source": [
        "Comparing to the number of peices in each corpus, we see our dataset is unbalanced.\n",
        "A resampling should be done to normalize the dataset, preferably with a cleanup:\n",
        "- Drop stopwords (e.g. and, are, what)\n",
        "- Lemmatize (e.g. driven will become drive, as driver will result in drive)\n",
        "- Drop common words (i.e. beyond a median frequency)"
      ]
    },
    {
      "cell_type": "code",
      "execution_count": 3,
      "metadata": {},
      "outputs": [],
      "source": [
        "# Resampled and Normalized\n",
        "from nltk.stem.wordnet import WordNetLemmatizer\n",
        "min_rows = data[\"author\"].reset_index().groupby(\"author\").count().min().values[0]\n",
        "# min_rows = 50\n",
        "\n",
        "authors = data[\"author\"].unique()\n",
        "n_df = pd.DataFrame(columns =['author', 'content'])\n",
        "for author in authors:\n",
        "  row = data[data[\"author\"] == author].sample(n=min_rows, random_state=1)\n",
        "  n_df = n_df.append(row[['author', 'content']], ignore_index = True)\n",
        "n_df = n_df.dropna()\n",
        "\n",
        "# Tokenize, lemmatize and drop stop words\n",
        "from nltk.tokenize import word_tokenize\n",
        "from nltk.stem import WordNetLemmatizer\n",
        "from nltk.corpus import stopwords\n",
        "from nltk.sentiment.vader import SentimentIntensityAnalyzer\n",
        "from nltk.tag import pos_tag\n",
        "from nltk.chunk import ne_chunk\n",
        "from collections import Counter\n",
        "\n",
        "sentim = SentimentIntensityAnalyzer()\n",
        "stops = set(stopwords.words('english'))\n",
        "wnl = WordNetLemmatizer()\n",
        "\n",
        "n_df['n_content'] = n_df[\"content\"].apply(\n",
        "  lambda x: \n",
        "    ' '.join([wnl.lemmatize(token) for token in word_tokenize(x) \n",
        "    if token not in stops])\n",
        ")\n"
      ]
    },
    {
      "cell_type": "code",
      "execution_count": null,
      "metadata": {},
      "outputs": [],
      "source": [
        "# Analyze length, counts, etc.\n",
        "n_df['word_count'] = n_df[\"n_content\"].apply(lambda x: len(str(x).split(\" \")))\n",
        "n_df['char_count'] = n_df[\"n_content\"].apply(\n",
        "    lambda x: sum(len(word) for word in str(x).split(\" \")))\n",
        "\n",
        "x, y = \"word_count\", \"author\"\n",
        "fig, ax = plt.subplots(nrows=1, ncols=2, figsize=(16, 6))\n",
        "fig.suptitle(x)\n",
        "for i in authors:\n",
        "    sns.distplot(n_df[n_df[y] == i][x], hist=True, kde=False,\n",
        "                 bins=10, hist_kws={\"alpha\": 0.8},\n",
        "                 axlabel=\"histogram\", ax=ax[0])\n",
        "    sns.distplot(n_df[n_df[y] == i][x], hist=False, kde=True,\n",
        "                 kde_kws={\"shade\": True}, axlabel=\"density\",\n",
        "                 ax=ax[1])\n",
        "ax[0].legend(authors)\n",
        "plt.show()\n"
      ]
    },
    {
      "cell_type": "markdown",
      "metadata": {},
      "source": [
        "There is a visible density in the area of 10 to 30 words. With this knowledge, we can use to further balance our dataset by sampling only peices that have an average amount of words that fall in this range."
      ]
    },
    {
      "cell_type": "code",
      "execution_count": null,
      "metadata": {},
      "outputs": [],
      "source": [
        "word_df = pd.DataFrame(columns=['author', 'content', 'n_content'])\n",
        "for author in authors:\n",
        "  row = n_df[(n_df[\"author\"] == author) & (n_df[\"word_count\"] >= 10) & (n_df[\"word_count\"] <= 30)]\n",
        "  word_df = word_df.append(row[['author', 'content', 'n_content']], ignore_index=True)\n",
        "n_df = word_df.dropna()\n",
        "print(n_df.shape)"
      ]
    },
    {
      "cell_type": "code",
      "execution_count": null,
      "metadata": {},
      "outputs": [],
      "source": [
        "\n",
        "n_df[\"sentiment\"] = n_df['n_content'].apply(\n",
        "  lambda x:\n",
        "    sentim.polarity_scores(x)['compound'])\n",
        "\n",
        "n_df[\"tags\"] = n_df['n_content'].apply(\n",
        "  lambda x: \n",
        "    [t.label() for t in ne_chunk(pos_tag(\n",
        "      x.split(' '))) if hasattr(t, 'label')])\n",
        "    \n",
        "TAG_SET = list(\n",
        "    set([tag for tags in n_df[\"tags\"] for tag in tags]))\n",
        "for tag in TAG_SET:\n",
        "    n_df[tag] = n_df['tags'].map(\n",
        "        lambda x: x.count(tag) if x is not None and len(x) >= 0 else 0)\n",
        "n_tags = pd.DataFrame(columns=TAG_SET)\n",
        "n_df= n_df.drop(columns=[\"tags\"])\n",
        "\n",
        "sns.set(style=\"white\")\n",
        "for author in authors:\n",
        "  temp = pd.DataFrame(n_df[n_df[\"author\"] == author][TAG_SET].sum()).T\n",
        "  temp['author'] = author\n",
        "  n_tags = n_tags.append(temp)\n",
        "temp = n_tags.melt(id_vars=\"author\", var_name=\"PoS\", value_name=\"Freq\")\n",
        "sns.factorplot(x='Freq', y=\"PoS\", hue=\"author\", data=temp,\n",
        "               kind='bar', size=5)"
      ]
    },
    {
      "cell_type": "markdown",
      "metadata": {},
      "source": [
        "Using NER we identified what most of earth's CEOs used to ramble on in their communications. Standard NER codes are:\n",
        "1.\tORGANIZATION e.g. Microsoft, Facebook\n",
        "2.\tPERSON e.g. Rafael Nadal, Nelson Mandela\n",
        "3.\tMONEY e.g. 9 million dollars, INR 4 Crore\n",
        "4.\tGPE e.g. India, Australia, South East Asia\n",
        "1.  GSP is a Geo-Socio-Political group\n",
        "5.\tLOCATION e.g. Mount Everest, River Ganga\n",
        "6.\tDATE e.g. 9th May 1987, 4 AUG\n",
        "7.\tTIME e.g. 7:23 A.M., three-forty am\n",
        "\n",
        "Even better, let's see if their is corelation between the mood (or Sentiment) of the communication peice and the entities mentioned therein:"
      ]
    },
    {
      "cell_type": "code",
      "execution_count": null,
      "metadata": {},
      "outputs": [],
      "source": [
        "temp = pd.DataFrame(columns=[*TAG_SET, *[\"author\"]])\n",
        "for author in authors:\n",
        "  for tag in TAG_SET:\n",
        "    sent = (n_df[(n_df[\"author\"] == author) & (\n",
        "        n_df[tag] >= 1)][\"sentiment\"].mean())\n",
        "    temp.at[author, tag] = sent if sent > 0 else 0\n",
        "  temp.at[author, \"author\"] = author\n",
        "temp = temp.dropna()\n",
        "\n",
        "temp = temp.melt(id_vars=\"author\", var_name=\"PoS\", value_name=\"Sentiments\")\n",
        "sns.factorplot(x='Sentiments', y=\"PoS\", hue=\"author\", data=temp,\n",
        "               kind='bar', size=5)\n"
      ]
    },
    {
      "cell_type": "markdown",
      "metadata": {},
      "source": [
        "Finally, a word cloud will allow us to explore the words themselves (lemmatized here) and their frequency in relation to the dataset:"
      ]
    },
    {
      "cell_type": "code",
      "execution_count": null,
      "metadata": {},
      "outputs": [],
      "source": [
        "for i in authors:\n",
        "  print(f'Wordcloud for: {i}')\n",
        "  \n",
        "  wc = wordcloud.WordCloud(background_color='black', max_words=200,\n",
        "                           max_font_size=80, width=800, height=600)\n",
        "\n",
        "  corpus = n_df[n_df[\"author\"] == author]['n_content']\n",
        "  wc = wc.generate(text=str(corpus))\n",
        "  plt.imshow(wc, cmap=None, interpolation='bilinear')\n",
        "  \n",
        "  plt.axis(\"off\")\n",
        "  plt.show()"
      ]
    },
    {
      "cell_type": "markdown",
      "metadata": {},
      "source": [
        "Now let's build the model.\n",
        "\n",
        "We will use the vectors derived from the corpus to act as features for our model. Features which we will apply with a stacking classifier to, which will combine the best outputs of each classifier to find an optimal prediction."
      ]
    },
    {
      "cell_type": "code",
      "execution_count": null,
      "metadata": {},
      "outputs": [],
      "source": [
        "# 1\n",
        "from sklearn.model_selection import train_test_split\n",
        "from sklearn.pipeline import make_pipeline\n",
        "from sklearn.pipeline import Pipeline\n",
        "from sklearn import model_selection\n",
        "from sklearn.feature_extraction.text import TfidfTransformer\n",
        "from sklearn.linear_model import SGDClassifier\n",
        "from sklearn.ensemble import StackingClassifier, ExtraTreesClassifier\n",
        "from sklearn.model_selection import StratifiedKFold\n",
        "from sklearn.neighbors import KNeighborsClassifier\n",
        "from sklearn.naive_bayes import MultinomialNB\n",
        "from nltk.stem.snowball import SnowballStemmer\n",
        "from sklearn.linear_model import LogisticRegression\n",
        "from nltk.stem.porter import *\n",
        "import nltk\n",
        "from sklearn.model_selection import GridSearchCV\n",
        "from sklearn.feature_extraction.text import CountVectorizer\n",
        "# nltk.download()\n",
        "\n",
        "# Vectorizing on normalized text above.\n",
        "vect = CountVectorizer(stop_words='english')\n",
        "lgc = LogisticRegression(n_jobs=-1, max_iter=1000)\n",
        "sgdc = SGDClassifier(loss='hinge',\n",
        "                     penalty='l2',\n",
        "                     alpha=1e-3,\n",
        "                     random_state=RANDOM_STATE,\n",
        "                     tol=None,\n",
        "                     n_jobs=-1)\n",
        "estimators = [('sgdc', sgdc), ('lgc', lgc)]\n",
        "etc = ExtraTreesClassifier(random_state=RANDOM_STATE)\n",
        "sclf = StackingClassifier(estimators=estimators,\n",
        "                          final_estimator=lgc,\n",
        "                          passthrough=True)\n",
        "tfidf = TfidfTransformer(use_idf=False)\n",
        "\n",
        "# Pipeline\n",
        "n_df = n_df.dropna()\n",
        "y = n_df['author']\n",
        "X = n_df['n_content']\n",
        "X_train, X_test, y_train, y_test = train_test_split(X, y,\n",
        "                                                    test_size=0.24,\n",
        "                                                    random_state=RANDOM_STATE,\n",
        "                                                    stratify=y)\n",
        "parameters = {\n",
        "    'vect__ngram_range': [(1, 1), (1, 2)],\n",
        "    'tfidf__use_idf': (True, False),\n",
        "    'clf__sgdc__alpha': (1e-2, 1e-3),\n",
        "    'clf__sgdc__tol': (0.0, 1e-3),\n",
        "    'clf__lgc__solver': ['lbfgs', 'sag'],\n",
        "    'clf__lgc__C': [0.2, 0.7],\n",
        "    'clf__lgc__penalty': ['c', 'l2']\n",
        "}\n",
        "\n",
        "# To find out for the param grid.\n",
        "# print(text_clf.get_params())\n",
        "text_clf = Pipeline([\n",
        "    ('vect', vect),\n",
        "    ('tfidf', tfidf),\n",
        "    ('clf', sclf),\n",
        "])\n",
        "gs_clf = GridSearchCV(estimator=text_clf,\n",
        "                      param_grid=parameters,\n",
        "                      cv=5, n_jobs=-1)\n",
        "gs_clf = gs_clf.fit(X_train, y_train)"
      ]
    },
    {
      "cell_type": "markdown",
      "metadata": {},
      "source": [
        "Vetting the models we stacked:"
      ]
    },
    {
      "cell_type": "code",
      "execution_count": null,
      "metadata": {},
      "outputs": [],
      "source": [
        "predicted = gs_clf.predict(X_test)\n",
        "\n",
        "from sklearn import metrics\n",
        "print(metrics.classification_report(y_test, predicted,\n",
        "                                     target_names=y.unique()))"
      ]
    },
    {
      "cell_type": "markdown",
      "metadata": {},
      "source": [
        "Above 80% is good enough. SKTLearn has a recommendation map to guide you to the most optimal model:\n",
        "![Image: image from sktlearn](ml_map.png \"image from tsktlearn\")\n",
        "\n",
        "Finally, let's test it on some samples from this same article to find to which bad CEO our text's style mostly resembles, and by how much:"
      ]
    },
    {
      "cell_type": "code",
      "execution_count": null,
      "metadata": {},
      "outputs": [],
      "source": [
        "text = \"In this article, we will entertian ourselves by comparing our's, and, our galatic leaders' posts on the professional network BeamedIn, againts those of past earthling CEOs who were either frauds or unnanimously declared as unpleasant people. We will do this with a technique called ** Authorship Identification ** in NLP. This enables us to identify the most likely author of articles, news or messages. \"\n",
        "toks = [wnl.lemmatize(token) for token in word_tokenize(text) if token not in stops]\n",
        "text_predicted = gs_clf.predict(toks)\n",
        "text_predicted_prob = gs_clf.predict_proba(toks)\n",
        "\n",
        "txt = text_predicted[0]\n",
        "txt_idx = np.where(authors == txt)\n",
        "\n",
        "probability = text_predicted_prob[0][txt_idx][0]\n",
        "print(f'This text is something \"{txt}\" would write at {probability:.0%}')\n"
      ]
    },
    {
      "cell_type": "markdown",
      "metadata": {},
      "source": [
        "# Concluding our Analysis\n",
        "\n",
        "\n",
        "\n",
        "# References\n",
        "\n",
        "- https://www.nltk.org/api/nltk.classify.scikitlearn.html\n",
        "- https://scikit-learn.org/stable/\n",
        "- https://www.one37pm.com/popular-culture/biggest-ceo-frauds-in-history\n",
        "\n",
        "## Github and Kaggle\n",
        "\n",
        "Article here is also available on [Github](https://github.com/adamd1985/articles/blob/main/nlp_bs_meter/nlp_intro.ipynb) and [Kaggle](https://www.kaggle.com/code/addarm/authorship-identification-you-vs-ceos)\n",
        "\n",
        "#\n",
        "<div align=\"right\">Made with :heartpulse: by <b>Adam</b></div>"
      ]
    }
  ],
  "metadata": {
    "kernelspec": {
      "display_name": "Python 3.8.8 ('base')",
      "language": "python",
      "name": "python3"
    },
    "language_info": {
      "codemirror_mode": {
        "name": "ipython",
        "version": 3
      },
      "file_extension": ".py",
      "mimetype": "text/x-python",
      "name": "python",
      "nbconvert_exporter": "python",
      "pygments_lexer": "ipython3",
      "version": "3.8.8"
    },
    "vscode": {
      "interpreter": {
        "hash": "7923e494469ea52b8a9df08e257af4ba4a4bf82d7b34513bcf6fc594ca6701f8"
      }
    }
  },
  "nbformat": 4,
  "nbformat_minor": 4
}
